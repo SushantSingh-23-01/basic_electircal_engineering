{
  "nbformat": 4,
  "nbformat_minor": 0,
  "metadata": {
    "colab": {
      "provenance": [],
      "toc_visible": true
    },
    "kernelspec": {
      "name": "python3",
      "display_name": "Python 3"
    },
    "language_info": {
      "name": "python"
    }
  },
  "cells": [
    {
      "cell_type": "markdown",
      "source": [
        "## Standard Nodal Analysis"
      ],
      "metadata": {
        "id": "pIEqT1Zq2zNs"
      }
    },
    {
      "cell_type": "markdown",
      "source": [
        "### Basics"
      ],
      "metadata": {
        "id": "_8Ix04Mv23qD"
      }
    },
    {
      "cell_type": "markdown",
      "source": [
        "\"*Technique for determining **non-reference** node-votages*\""
      ],
      "metadata": {
        "id": "AYo9ia7w-r77"
      }
    },
    {
      "cell_type": "markdown",
      "source": [
        "#### Node"
      ],
      "metadata": {
        "id": "pGn0zMAtgVP6"
      }
    },
    {
      "cell_type": "markdown",
      "source": [
        "\n",
        "\n",
        "A junction or connection point where two or more circuit elements (like resistors, sources, capacitors, etc.) are joined together.\n",
        "\n",
        "$N_1$ is a node connecting two resistors $R_1$ and $R_2$"
      ],
      "metadata": {
        "id": "dKbIKY_X5ZdS"
      }
    },
    {
      "cell_type": "markdown",
      "source": [
        "![circuit (3).png](data:image/png;base64,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)"
      ],
      "metadata": {
        "id": "88Z8NMKh8dxY"
      }
    },
    {
      "cell_type": "markdown",
      "source": [
        "#### Reference vs Non-reference nodes"
      ],
      "metadata": {
        "id": "503Ns8pPgX2s"
      }
    },
    {
      "cell_type": "markdown",
      "source": [
        "In any circuit, we pick one node to be our 'ground' or zero-volt point. This is the **reference node**. All other voltages in the circuit are measured *relative to this point*.\n",
        "\n",
        "The other nodes, like $n_1$ and $n_2$ here, are our **non-reference nodes**. These are the *unknown voltages we want to solve for.*\n",
        "\n",
        "\n"
      ],
      "metadata": {
        "id": "7DQU3SbW_O77"
      }
    },
    {
      "cell_type": "markdown",
      "source": [
        "![circuit (1).png](data:image/png;base64,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)"
      ],
      "metadata": {
        "id": "bg0R4xleAyE3"
      }
    },
    {
      "cell_type": "markdown",
      "source": [
        "#### Kirchhoff's Current Law"
      ],
      "metadata": {
        "id": "oZ9xCE_hge8-"
      }
    },
    {
      "cell_type": "markdown",
      "source": [
        "\n",
        "It states that\n",
        "\n",
        "\"*Current entering a node is equal to current leaving the node*\"\n",
        "\n",
        "Mathematically,\n",
        "\n",
        "$$\\sum i_{in} =  \\sum i_{out}$$\n",
        "\n",
        "For diagram below at node 1:\n",
        "\n",
        "$$ i_1 + i_2 = i_3 + i_4$$"
      ],
      "metadata": {
        "id": "MHxVYstC8koe"
      }
    },
    {
      "cell_type": "markdown",
      "source": [
        "![circuit (1).png](data:image/png;base64,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)"
      ],
      "metadata": {
        "id": "yoKB2ofu7xnX"
      }
    },
    {
      "cell_type": "markdown",
      "source": [
        "### Mathematical Formulation"
      ],
      "metadata": {
        "id": "QdcJPba1BQ57"
      }
    },
    {
      "cell_type": "markdown",
      "source": [
        "From Ohm's Law:\n",
        "\n",
        "$$V = IR \\\\[1em]\n",
        "\\Rightarrow I = \\frac{V}{R} \\\\[1em]\n",
        "\\Rightarrow I = GV \\\\[1em]\n",
        "\\Rightarrow V = G^{-1}I\n",
        "$$\n",
        "\n",
        "where\n",
        "- $G$ is *Nodal conductance* matrix\n",
        "- $V$ is *Node voltage vector*\n",
        "- $I$ is *Nodal current vector*"
      ],
      "metadata": {
        "id": "lFZQHqv3BWjW"
      }
    },
    {
      "cell_type": "markdown",
      "source": [
        "### Steps"
      ],
      "metadata": {
        "id": "R7peQ3qkaUjl"
      }
    },
    {
      "cell_type": "markdown",
      "source": [
        "1. **Reference Node**: One node is arbitrarily chosen as the reference node (or ground), and its voltage is set to zero ($V_{ref}=0V$). This node is typically the one with the most connections to simplify equation\n",
        "2. **Unknown Nodes**: All other nodes are labeled with an unknown node voltage variable (e.g., $V_1,\\;V_2,\\;\\dots$), representing the voltage potential with respect to the reference node."
      ],
      "metadata": {
        "id": "1HgFvpHuEkQJ"
      }
    },
    {
      "cell_type": "markdown",
      "source": [
        "### Derivation"
      ],
      "metadata": {
        "id": "z2Jf6urBEHsy"
      }
    },
    {
      "cell_type": "markdown",
      "source": [
        "![circuit (5).png](data:image/png;base64,iVBORw0KGgoAAAANSUhEUgAAAggAAAEYCAIAAAC2oJkyAAAAA3NCSVQICAjb4U/gAAAVt0lEQVR4nO3db2xT1R/H8VOELMiDVpCQEJJ1mRJZjBuiARPCigZCotD6NysEuvlAHxixiPEPPFh5oAON24jGYHzgFJMxNW4zEEQkrSaEEESGLiOoowUjhCXkXgQU+eP9PTihv56xlnbb7f33fj3qurPu7H678+k99557fYZhCAAAbphgdQcAAPZCMAAAFAQDAEBBMAAAFAQDAEBBMAAAFAQDAEBBMAAAFAQDAEBBMAAAFAQDAEBBMAAAFAQDAEBBMAAAFAQDAEBBMAAAFAQDAEBBMAAAFAQDAEBBMAAAFAQDAEBBMAAAFAQDAEBBMAAAFAQDAEBBMAAAFAQDAEAx0eoOAOWg63p1dfXSpUuFEIZhVFRUrF+//r777hNCdHV19fb2CiEefPDBeDzu8/ks7itgNYIBXjF79uzOzk75eHBwcNWqVfv37z927NiePXs+/fTTCRMmxOPxgwcPLliwwNp+ApYjGOBF1dXV165du3Dhwr333vvhhx9OnDhRCDFr1qy///7b6q4B1uMYAzzn2rVre/fura6u9vv9QohJkyYJIU6fPn3o0KH58+db3TvAeuwxwCt+/fXXNWvWCCEGBgYeeeSR999/P3s4IZ1Ob9iwYfPmzVOmTLG0j4AtEAzwitmzZ3/66adCiMOHD3/wwQfTpk2Tzx8/fry5ubm1tXXmzJmWdhCwC6aS4Dnz5s2bNWtWT0+PEOLSpUsbNmx47733rEqFgYGBlpaWYU92dXWtXLly5cqVbW1thmFY0jF4GXsM8KK1a9eGw+GHHnrop59+GhwcXLt2rXz+ySeffOqpp8rZk5qampqamtxn+vv7OVEK1vLxecTLXnjhhcbGxgcffFB+eeXKlYULF+7Zs0fTtC1btkyZMqW1tdXaHrrezz//vGPHjmg0umPHjqGhoeXLl69YseLq1avykPjbb7/9wAMPPPzww2b86nzV//bbb1nY4XFMJXnaE088sWvXruyXBw8eXLJkyR133NHZ2RmNRi3smNdMnDhx9+7dmzdvXrFihSjXiVIjVv/PP/+U+yufffZZOp0+ePCgSb8ddkYweNrChQv37t178eJF+eXOnTuXL18uhNi4ceOMGTMs7ZrnzJ8/P3s8XAiRTqfXr19v6olSI1Y/u7BjwoQJLOzwLILB0yoqKp5++ukffvhBCKHr+uHDh7MTCyizyZMnZx8fP378jTfeePfdd6urq837jfmqz8IOEAxe9+ijj3Z3dwshUqlUQ0PDbbfdZnWPRk/XdV3Xy9PGPOU8USpf9cuwvwI7Ixi87u6777506dLp06d7enqWLVtmdXfGpKOjo6OjozxtzJNKpeSJUtFoNBqNfvnll+b9rhGrX579FdgZZyVB9Pb2/v7777/99tu2bduyTx47duyjjz5y1llJVVVVQoh0Ol2GNq4xrPqXLl1as2bNtm3bpk+fbnXXYB0DnvfXX39VVlbu2bNHfnn27NmGhobHHntszpw5DQ0NXV1d1navSHJKRAjR3d1tdhs3GVb9nTt31tbWNtzwxRdfWNs9WII9BrjE4sWLU6mUECIUCiWTSVPbAO5GMMANMplMVVWVvFrq+fPn0+l0MBg0qY2FEolEIpGwuhdwPw4+ww3kcBmJRCKRSPZLk9pYaNOmTVVVVXKHBjCR1XNZcBhN0xobGwOBgBCisbFR0zSre2Romib7k06n5RHjQCAwrGPj1cZa2X/bSCSSTqfzNbNhjeAsBANKEw6Hcz9YxGIxq3tktLW1CSHq6+vll/X19UIIeV3ScW9jrdwtHwgEEonEiM1sWCM4i/OCYZz3mOAW2ZOI5GlFwWAw920jDxWMVxugJGaNhqZxYI+Bm1RWVua+SSorK8VNQ/x4tQFKZcpQaCYH9tiZG9o1HDFNISeFQqGQ/DIUCok8E0djb1NOuVve7/c3NzeP2MwRNfIIh45XDuyxMze0a2ialh13YrGYPQ9sapomTznNHkb2+/03H2oelzbllB3rw+Fw4YPP9q+RRzh0vHJgj525oV3G/lWIxWJyWMw+MK9N2QghKisrk8lkkY1tXiMvcGgVnLfATd5PynHddhn7V0EuVZOnbOq6XmA529jblE1JC9zsXyMvcGgVCAaMhiOqEAqFvv/+eyFEfX19vkVh49XGhhxRI9dzaBVY+QzXisfjwx6Y1wZwE/YYMBpOqYKc9slkMmVoYzdOqZG7ObQKE63uAGCiYj7jj1cbwDXYY8BoOKUK8g6d8tCx2W3sxik1cjeHVoFgwGhQBfujRnbg0Cpw8BkAoCAYAAAKggEAoCAYAAAKggEAoCAYAAAKggEAoCAYAAAKggEAoCAYAAAKggEAoCAYAAAKggEAoCAYAAAKggEAoOAOboCtDQwM9Pb2vvHGG9lnDMPo6OjYt2+fz+erqal55ZVXJk2aZGEP4T7sMQC2VlNTk5sKQojDhw/39/dv3759+/btFy9ePHDggFV9g1uxxwDY2s8//7xjx45oNLpjx46hoaHly5evWLHi/vvv9/l8586dO3v27MyZM63uI9yGYAAcYOLEibt37967d++0adOEEBMmTHjrrbe++uqreDx+1113Wd07uA1TSYAzzJ8/X6aCtGHDhgMHDvT39+/bt8/CXsGVCAbAGSZPniwf/Pvvv//8848QYtKkSYsWLerv77e0X3AhggFwmGQy2dLSYhiGYRiHDh2qrq62ukdwG44xAA6zZMmSX3/9dfXq1UKI2traZcuWWd0juI3PMAyr+1Aan88nhHBct12GKtgfNbIDh1aBqSQAgIJg8LSBgYGWlpZhT544ceL5559/+eWXLekSAMtxjMHTampqampqhj3Z2dkZjUa//vprS7oEwHIEg6eNuKp248aNx44ds7prACxDMGD4qloAHscxBghx06paAF5GMECInFW1AEAwAAAUHGOAYmho6KWXXrp48eLg4OCZM2cef/zxZ555xupOASgrVj5jNKiCPSUSiU2bNo34rebm5kQiUd7uwKn/KQQDRoMq2FYwGDx58uSwJysrKzOZjBXd8TqH/qdwjAFwlY6OjiKfBPIhGABXCYVC4XA495lwOBwKhSzqDhyJqSSMBlWws0wmU1dXd/78eSGE3+/v6+sLBoNWd8qjHPqfwh4D4DbBYDAej8vH8XicVECp2GPAaFAF+6NGduDQKrDHAABQEAwAAAXBAABQEAwoViKR8N0gn8l+yZJawE04+IwSsKrWQfhPsQOHVoE9BpSAVbWAFxAMKAGragEvYCoJpWFVrVPwn2IHDq0CewwoDatqAddjjwGjQRXsjxrZgUOrwB4DAEBBMAAAFAQDAEBBMAAAFAQDAEBBMAAAFAQDAEBBMAAAFAQDAEBBMAAAFAQDAEBBMAAAFAQDAEBBMAAAFAQDAEAx0eoOwGF0Xf/kk0+s7gUKoUYYI4IBxcpkMps2berp6dF1XQhRWVlpdY8wHDXCuHBAMOi63tvbm0qlMpmMfLsLIebOnRsIBILBoLw9fSAQsLaT7tbT07N169ZUKiW/rK+vj8fjkUjE0k5BQY1swiXjlWFjyWQyFAoV81eEQqFkMml1f91G07T29vbsXZ39fn8sFkun01b3C/9HjezDTeOVTfcYMplMU1NT9uNPOBwOhUJ1dXWBQGDu3LlCiCNHjui63tfXl0qlZD6nUqlIJNLW1sbt6ceRfJfIxz6fT97AFrZCjSznwvHKukzKq7u7W+5q+f3+5uZmTdNyv3tztzVNa25u9vv9QohAINDd3V3e/rpfd3d3fX199j0TCoV6enqs7hQU1MgqrhyvbBcM7e3tclPGYrFhm1jKl2eapoXDYfnd9vZ283vqOel0OhaLyTe0ECIYDLa3t49YI1iFGpWZW8crewVDW1ub3FJtbW352hTe0SnmFTAWmqa1tbVlT3cJBAKNjY1MatsKNSoPF49XNgqG7u5uuY0+/vjjfG0uX74s21y+fDlfm48//li2sec+mmswd2F/1Mg8xYxXxq2CwbDreGWXYEin03KernByNjc3y43Y3NxcoJnM4UAgwKckszF3YX/UaNwVOV4ZRQSDYcvxyi6XxGhqatJ1PRaLxePxfG3++OOPzZs3y8ebN2/+448/8rWMx+PhcFjX9XXr1o1/X6HKPRNGvqus7Q9uRo3GVzHjVfEKj1fTpk2TMyVdXV0rV65cuXKlTKOx/95CLIukHMlkUgjh9/sLf4rJHquRwuFwgcaapsmPSDY/X9i5uru7c8/arq+vt9W+MAxqZI4ixyupyGG2wHg1derUf/7555dffmlqarp69er169dffPHFAwcOjK7zRbJFMMj3buHZod27d9+cart37y7wI3LeqXB+oFSsqLI/amSqYsarrOI/f+cbr2QwGIZx5coV+cyWLVv27dtXQo9LZ30waJomt12B+L18+fI999xzczDcc889BY5CF/PKKF46nW5sbMyu5q+srGxra2Pb2go1Mlupo0rxwZDvlbPBIP35559PPfXUxYsXS+p2qawPBnlQvvDn+paWlptTQWppaSnwg3L2qfBpA7glZiTsjxqVRzHjVa7ig8HIM17lBsOJEycaGhp+//33ovs7StZfEkOuIy98jZHXX3/99ddfl4/lMTSjuGMvoVBILkBvbGwcWzedTdf16urqpUuXCiEMw6ioqFi/fv19990nhDhx4sSWLVumTJnS2tp680998skn7e3tmUxGCOH3+yORSCKRsOkifofLVyPDMDo6Ovbt2+fz+Wpqal555ZVJkybl/hQ1KqdixqtRKzxeHT9+vLm5ubW1debMmWb89lzWB4N8Q9fV1Znx4vJl5a/wuNmzZ3d2dsrHg4ODq1at2r9//2233dbZ2RmNRr/++usRf0p+fJCPuQ6P2Uas0ZEjR/r7+7dv3+7z+TZu3HjgwIFFixbl/hQ1KierxqtLly5t2LBh27Zt06dPN+NXD2P96aonT54UQpj0AUdOtp4/f96MF3eu6urqa9euXbhwQQixcePGGTNmjNgsEAjE4/FMJiPXSem63tHRUVVVtXjx4t7e3vJ22XOyNXrggQfeeecdn8937ty5s2fPDvu0SI3KzKrxKpVKDQ4Orl27NhqNRqPRL7/80owO/J/Zc1W3VGo3zG7vSpqmLViwQD6+evXqt99++8wzz/z333/ymYGBgXXr1t3yRVgnZarCNXrzzTfnzZu3ffv2wi9CjczmkfHKBj3wxoa2lqZpU6dOXb169erVq+fNm/fqq68ODQ1lv1tkMGRfiuvwmKFwjQzDuHLlymuvvfbdd98V81LUyCQeGa/M7UH2ePrg4OBzzz034ugj377Fv2tL2nBHjhwRQtTW1hbZ3q1yP43++OOPzz777PXr17PfLSkYsrgOz/jKV6PLly///fff8vldu3aVdCVOajTuPDJelekYgzzCOeK35GydSceH5a31HHAjvTKaN2/erFmzenp6xvg6kUgklUpl5y7kjUeqqqq2bt2avaMhRie3RslkMntO9qFDh6qrq4t/HWo07jwyXpUpGAoc4ZQbuq+vz4zfK1+WU/eGWbt2bWtr65kzZ4aGhqLR6KuvvvrNN99Eo9HPP/98FK/GdXjMkK3RkiVL7rzzTjnFdPvtty9btmwUr0aNxotXxitT90dyl2bkm68o/4IRjAtWVNkfNRp3HlmQa30wlH+JOcaC6/DYHzUyj0cu4WN9MBiGIY+Ple2iVBgdrsNjf9SoDIoZr5x+0U9bBIO8jG0gEBjfy9jKfw8uuz12zEjYHzUqmyLHq1JvE2Cr8aocwXD27NmGhobHHntszpw5DQ0NXV1dN7eUGzESidzyNYsMhkgkYp/4dShmJOyPGlmimPHq1KlTFRUVsi4VFRWnTp0q0Nhu45X1KymkdDotl2uO463y/H4//yFjwTop+6NGlihyvCrpVsS2Gq/sEgyG22+u7Wisk7I/alRmxYxX8pacQogCx5ztOV7ZKBiMG8kphCiwvLNwMCQSCdnglnseKBXX4bE/alROLh6v7BUMRs62jkQiI76h821oTdPkPJ0Nt7KbMHdhf9SobNw6XtkuGAzD6O7ulh95AoFAIpEYtrlv3tCapiUSCXlM3+/322qPzMWYu7A/alQGrhyv7BgMhmGk0+nck70ikUh7e3sqlZIXmRJCHDlyJJVKtbe3Z1NXCBEOh/lYVGbMXdgfNTKb+8YrmwaDlEwmh50LnE84HLbJ+b9ew4oq+6NG5eGm8cpn2P5yWrqu9/T0pFKpTCaj6/rRo0eFELW1tYFAIBgMhkKhSCRih+sRek1PT8/WrVvlLXCFEPX19fF4PPcDESxHjcrPHeOVA4JhGHmRSMd122WCwaC8xyF3n7ctamQHDh2vCAaMhqxCW1tb7hwFbIUa2YFDxyuCAaNBFeyPGtmBQ6tQphv1AACcgmAAACgIBgCAgmAAACgIBgCAgmAAACgIBgCAgmAAACgIBgCAgmAAACgIBgCAgmAAACgIBgCAgmAAACgIBgCAgmAAACgIBgCAgmAAACgIBgCAgmAAACgIBgCAgmAAACgIBgCAgmAAACgIBgCAgmAAACgIBgCAgmAAACgIBgCAgmAAACgIBgCAgmAAACgIBgCAgmAAACgIBgCAgmAAACgIBgCAgmAAACgIBgCAgmAAACgIBgCAgmAAACgIBgCAgmAAACgIBgCAgmAAACgIBgCAgmAAACgIBgCAgmAAACgIBgCAgmAAACgIBgCAgmAAACgIBgCAgmAAACgIBgCAgmAAACgIBgCAgmAAACgIBgCAgmAAACgIBgCAgmAAACgIBgCAgmAAACgIBgCAgmAAACgIBgCAgmAAACgIBgCAgmAAACgIBpRG1/Wmpib5uKmpSdd1a/szdvIvuuOOO3w+n5v+IvnYHX8Rys1wGod22zXC4XDu+ycWi1ndo7HiL4J5HDpe+YwbXXcKn89ndRcAoASOG2aZSgIAKJwXDFbvY3md+6Yp+ItgtnKMjOPL6i0Gh9E0LRwO+/1+IUQsFtM0zeoejZX8i+S/g5v+IjfVCGXmvGMMgBnksSv+HQDhxKkkAICpCAYAgIJgAAAoCAZ4ha7rdXV1vjxkm3zfraurY/0wvINggFcEAoFUKlVbW1vqD9bW1qZSqUAgYEavABsiGOAhudlQV1dX4DxOTdPq6uoEqQBPIhjgLdls6OvrW7x48YgTRLquL168uK+vj1SANxEM8JzC2UAqAAQDvChfNpAKgBCClc/wLl3XQ6HQ0aNH6+rqksmkEIJUAATBAI/LzQYhBKkACIIByGaD4BwkQAhBMADiRjYIIUgFQBAMgCSPP5MKgCAYAADDcLoqAEBBMAAAFAQDAEBBMAAAFAQDAEBBMAAAFAQDAEBBMAAAFAQDAEBBMAAAFAQDAEBBMAAAFAQDAEBBMAAAFAQDAEBBMAAAFAQDAEBBMAAAFAQDAEBBMAAAFAQDAEDxP+rCgtDL+z87AAAAAElFTkSuQmCC)"
      ],
      "metadata": {
        "id": "R7ge7EoZDiCj"
      }
    },
    {
      "cell_type": "markdown",
      "source": [
        "Applying KCL to given circuit:\n",
        "\n",
        "- *Node1*: &emsp; $i_{r1} + i_{r2} - I_1 = 0$\n",
        "\n",
        "- *Node2*: &emsp; $-i_{r2} + i_{r3} + I_2 = 0$\n",
        "\n",
        "Applying Ohm's Law to branch currents we get:\n",
        "\n",
        "- *Node1*: $\\frac{V_1}{R_1} + \\frac{(V_1 - V_2)}{R_2} = I_1$\n",
        "\n",
        "- *Node2*: $- \\frac{(V_1 - V_2)}{R_2} + \\frac{V_2}{R_3} = -I_2 $\n",
        "\n",
        "Rearranging terms we get:\n",
        "\n",
        "- *Node1*: $(\\frac{1}{R_1} + \\frac{1}{R_2}) V_1 + (-\\frac{1}{R_2})V_2 = I_1$ <br>\n",
        "- *Node2*: $-\\frac{1}{R_2}V_1 + (\\frac{1}{R_2}+\\frac{1}{R_3})V_2 = -I_2 $"
      ],
      "metadata": {
        "id": "oecQYcnIDxwk"
      }
    },
    {
      "cell_type": "markdown",
      "source": [
        "We can express in matrix form as:\n",
        "$$\n",
        "\\begin{bmatrix}\n",
        "(\\frac{1}{R_1} + \\frac{1}{R_2}) & -\\frac{1}{R_2} \\\\\n",
        "-\\frac{1}{R_2} & (\\frac{1}{R_2}+\\frac{1}{R_3})\n",
        "\\end{bmatrix}\n",
        "\\cdot\n",
        "\\begin{bmatrix}\n",
        "V_1 \\\\ V_2\n",
        "\\end{bmatrix} =\n",
        "\\begin{bmatrix}\n",
        "I_1 \\\\ -I_2\n",
        "\\end{bmatrix}\n",
        "$$"
      ],
      "metadata": {
        "id": "vQELQ6mnMT4v"
      }
    },
    {
      "cell_type": "markdown",
      "source": [
        "### Convention"
      ],
      "metadata": {
        "id": "OcUgpJA2RE5c"
      }
    },
    {
      "cell_type": "markdown",
      "source": [
        "From above derived representation we can observe:\n",
        "1. *Conductance matrix*:\n",
        "    1. **Diagonal elements**: positive sum of conductances connected to node 1 or 2.\n",
        "    2. **Off - Diagonal elements**: -negative of conductances connected between nodes of node 1 and node 2.\n",
        "\n",
        "2. *Indpendent current source matrix*:\n",
        "    1. If current enters the node -> **+I**\n",
        "    2. If current leaves the node -> **-I**"
      ],
      "metadata": {
        "id": "dadrjbvBRGdw"
      }
    },
    {
      "cell_type": "markdown",
      "source": [
        "### General Matrix Representation"
      ],
      "metadata": {
        "id": "BXymsY1XE2Lt"
      }
    },
    {
      "cell_type": "markdown",
      "source": [
        "We generalise the above matrix form to a n-node system:\n",
        "\n",
        "$$\n",
        "\\begin{bmatrix}\n",
        "(\\frac{1}{r_{1a}} + \\frac{1}{r_{1b}} + \\dots) & -\\frac{1}{r_{12}} & \\dots & -\\frac{1}{r_{1N}} \\\\\n",
        "- \\frac{1}{r_{21}} & (\\frac{1}{r_{2a}} + \\frac{1}{r_{2b}} + \\dots) & \\dots & -\\frac{1}{r_{2N}} \\\\\n",
        "\\vdots & \\vdots & \\ddots & \\vdots \\\\\n",
        "-\\frac{1}{r_{N1}} & -\\frac{1}{r_{N2}} & \\vdots & (\\frac{1}{r_{Na}} + \\frac{1}{r_{Nb}} + \\dots)\n",
        "\\end{bmatrix}\n",
        "\\cdot\n",
        "\\begin{bmatrix}\n",
        "v_1 \\\\\n",
        "v_2 \\\\\n",
        "\\vdots \\\\\n",
        "v_N\n",
        "\\end{bmatrix}\n",
        " =\n",
        "\\begin{bmatrix}\n",
        "i_1 \\\\\n",
        "i_2 \\\\\n",
        "\\vdots \\\\\n",
        "i_N\n",
        "\\end{bmatrix}\n",
        "$$"
      ],
      "metadata": {
        "id": "ORrvh-6PF4Al"
      }
    },
    {
      "cell_type": "markdown",
      "source": [
        "###"
      ],
      "metadata": {
        "id": "YX2YG-yT97p_"
      }
    },
    {
      "cell_type": "markdown",
      "source": [
        "### Code"
      ],
      "metadata": {
        "id": "R5jgRVKfI1zq"
      }
    },
    {
      "cell_type": "code",
      "execution_count": null,
      "metadata": {
        "id": "IYgPw_5F2t3E"
      },
      "outputs": [],
      "source": [
        "import numpy as np\n",
        "from typing import List, Dict, Any"
      ]
    },
    {
      "cell_type": "code",
      "source": [
        "Component = Dict[str, Any]"
      ],
      "metadata": {
        "id": "RjFZt5dcJC7D"
      },
      "execution_count": null,
      "outputs": []
    },
    {
      "cell_type": "code",
      "source": [
        "def standard_nodal_analyis(components: List[Component])->Dict[str, Any]:\n",
        "    # Get number of non-reference nodes and seperate components\n",
        "    n_nodes = 0\n",
        "    resistor_branches = []\n",
        "    current_sources = []\n",
        "    for component in components:\n",
        "        n_nodes = max(n_nodes, component['n1'], component['n2'])\n",
        "        if component['type'] == 'R':\n",
        "            resistor_branches.append(component)\n",
        "        elif component['type'] == 'I':\n",
        "            current_sources.append(component)\n",
        "\n",
        "    # Initialise matrices\n",
        "    G = np.zeros((n_nodes, n_nodes))\n",
        "    I = np.zeros((n_nodes, 1))\n",
        "\n",
        "    for branch in resistor_branches:\n",
        "        n1, n2 = branch['n1'], branch['n2']\n",
        "        g = 1 / branch['val']\n",
        "\n",
        "        # Index - 1 to account for python 0 indexing\n",
        "        # Fill diagonal elements\n",
        "        if n1 > 0:\n",
        "            G[n1-1, n1-1] += g\n",
        "        if n2 > 0:\n",
        "            G[n2-1, n2-1] += g\n",
        "\n",
        "        # Fill off diagonal elements\n",
        "        if n1 > 0 and n2 > 0:\n",
        "            G[n1-1, n2-1] -= g\n",
        "            G[n2-1, n1-1] -= g\n",
        "\n",
        "    for k, branch in enumerate(current_sources):\n",
        "        n1, n2 = branch['n1'], branch['n2']\n",
        "        current_val = branch['val']\n",
        "        # Current is leaving n1\n",
        "        if n1 > 0:\n",
        "            I[n1-1] -= current_val\n",
        "        # Current is entering n2\n",
        "        if n2 > 0:\n",
        "            I[n2 - 1] += current_val\n",
        "\n",
        "    V = np.linalg.solve(G, I)\n",
        "\n",
        "    results = {}\n",
        "    for i in range(n_nodes):\n",
        "        results[f'V_{i+1}'] = V[i]\n",
        "\n",
        "    # Calculating branch currents\n",
        "    for branch in resistor_branches:\n",
        "        n1, n2 = branch['n1'], branch['n2']\n",
        "        g = 1 / branch['val']\n",
        "        Vn1 = V[n1-1, 0] if n1 > 0 else 0\n",
        "        Vn2 = V[n2-1, 0] if n2 > 0 else 0\n",
        "\n",
        "        results[f\"I_{branch['id']}\"] = (Vn1 - Vn2) * g\n",
        "    return results"
      ],
      "metadata": {
        "id": "9q-wbP3kI8sU"
      },
      "execution_count": null,
      "outputs": []
    },
    {
      "cell_type": "markdown",
      "source": [
        "### Example"
      ],
      "metadata": {
        "id": "0PriTtMcRi02"
      }
    },
    {
      "cell_type": "markdown",
      "source": [
        "![circuit (1).png](data:image/png;base64,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)"
      ],
      "metadata": {
        "id": "W7wxa9jfj9Vw"
      }
    },
    {
      "cell_type": "markdown",
      "source": [
        "Solving manually first, KCL equations:\n",
        "- *Node1*: $-I_1 + i_{r1} + i_{r2} = 0$\n",
        "- *Node2*: $ I_2 - i_{r2} + i_{r3}= 0$\n",
        "\n",
        "Substitutting node voltages:\n",
        "- *Node1*: $-I_1 + \\frac{V_1}{R_1} + \\frac{(V_1 - V_2)}{R_2} = 0$\n",
        "- *Node2*: $I_2 - \\frac{(V_1 - V_2)}{R_2} + \\frac{V_2}{R_3} = 0$\n",
        "\n",
        "Substitutting numerical values:\n",
        "- *Node1*: $-3 + \\frac{V_1}{2} + \\frac{(V_1 - V_2)}{6} = 0$\n",
        "- *Node2*: $12 - \\frac{(V_1 - V_2)}{6} + \\frac{V_2}{7} = 0$\n",
        "\n",
        "Simplifying equations:\n",
        "- *Node1*: $-18 + 3 V_1 + V_1 - V_2 = 0$\n",
        "- *Node2*: $504 - 7V_1 + 7V_2 + 6V_2 = 0$\n",
        "\n",
        "Multiplying node equation with 13 and add both equations\n",
        "- *Node1*: $-234 + 52V_1 - 13V_2=0$\n",
        "- *Node2*: $504 - 7V_1 + 13V_2 = 0$\n",
        "\n",
        "Simplifying:\n",
        "\n",
        "$270 + 45V_1 = 0 \\\\\n",
        "\\Rightarrow V_1 = -6V \\\\\n",
        "\\Rightarrow V_2 = -18 + 4\\times -6 = -42V\n",
        "$\n",
        "\n",
        "Branch Currents:\n",
        "- $I_1 = \\frac{-6}{2} = -3A$\n",
        "- $I_2 = \\frac{-6+42}{6} = 6A$\n",
        "- $I_3 = \\frac{-42}{7} = -6A$"
      ],
      "metadata": {
        "id": "oKM7pZ--iaIv"
      }
    },
    {
      "cell_type": "code",
      "source": [
        "components = [\n",
        "    {'id': 'I1', 'type': 'I', 'n1': 0, 'n2': 1, 'val': 3},\n",
        "    {'id': 'I2', 'type': 'I', 'n1': 2, 'n2': 0, 'val': 12},\n",
        "    {'id': 'R1', 'type': 'R', 'n1': 0, 'n2': 1, 'val': 2},\n",
        "    {'id': 'R2', 'type': 'R', 'n1': 1, 'n2': 2, 'val': 6},\n",
        "    {'id': 'R3', 'type': 'R', 'n1': 2, 'n2': 0, 'val': 7},\n",
        "]"
      ],
      "metadata": {
        "id": "e6Pwy2GqOSb6"
      },
      "execution_count": null,
      "outputs": []
    },
    {
      "cell_type": "code",
      "source": [
        "results = standard_nodal_analyis(components)\n",
        "\n",
        "print(f\"{'Variable':<30}Value\")\n",
        "for k, v in results.items():\n",
        "    print(f'{k:<30} {np.round(v, 4)}')"
      ],
      "metadata": {
        "colab": {
          "base_uri": "https://localhost:8080/"
        },
        "id": "Uk4m37CaSxlO",
        "outputId": "e239a588-1cb4-4905-e62f-3244b0af161c"
      },
      "execution_count": null,
      "outputs": [
        {
          "output_type": "stream",
          "name": "stdout",
          "text": [
            "Variable                      Value\n",
            "V_1                            [-6.]\n",
            "V_2                            [-42.]\n",
            "I_R1                           3.0\n",
            "I_R2                           6.0\n",
            "I_R3                           -6.0\n"
          ]
        }
      ]
    }
  ]
}